{
 "cells": [
  {
   "cell_type": "markdown",
   "id": "c141ebb6-5c78-4db8-8d5b-d86a4dddbcab",
   "metadata": {},
   "source": [
    "# #41_Watermelon\n",
    "###  Link to the Problem:\n",
    "<a href=\"https://codeforces.com/problemset/problem/4/A\"><b>»»»<i> CLICK HERE </i>«««</b></a>\n"
   ]
  },
  {
   "cell_type": "code",
   "execution_count": null,
   "id": "fb36fab4-7505-4cc0-865f-986aaecc6c6a",
   "metadata": {},
   "outputs": [],
   "source": [
    "watermelon = int(input())\n",
    "if watermelon%2 == 0 :\n",
    "    if watermelon > 2:\n",
    "        print(\"YES\")\n",
    "    else:\n",
    "        print(\"NO\")\n",
    "else:\n",
    "    print(\"NO\")"
   ]
  },
  {
   "cell_type": "markdown",
   "id": "f18fef57-aa34-4dd2-83a7-76ea5e79dabd",
   "metadata": {},
   "source": [
    "### Question Statement Summarization:\n",
    "The question states that, there are 2 friends name Billy and Pete. They have a watermelon of weight <b><i>w</i></b>. We need to divide the watermelon in such a way that, both Billy and Pete have <b>even</b> number of weights. Take weight as input and print <i>YES</i> or <i>NO</i> as output if the process can be \n",
    "\n",
    "### Logic Building:\n",
    "<ol>\n",
    "    <li> There are only 1 input, which is weight of the watermelon. So need to take the input as integer.</li>\n",
    "    <li> If we want to divide a number in 2 even parts, the number itself has to be even. Which means, the weight we took as input, has to be even.</li>\n",
    "    <li> Zero(0) is as also considered as <b>even</b> number. So we also have to exclude Zero.</li>\n",
    "    <li> Lastly, if the weight is even, it can be devided in two even-number-weighted parts.</li>\n",
    "</ol>\n",
    "\n",
    "### Code Explanation: \n",
    "<ol>\n",
    "    <li> Use weight%2 == 0 to check for even number</li>\n",
    "    <li> if weight%2==0 is <b>True</b>, then print(\"YES\").</li>\n",
    "    <li> else weight%2==0 is <b>False</b>. So print(\"NO\")</li>\n",
    "</ol>"
   ]
  }
 ],
 "metadata": {
  "kernelspec": {
   "display_name": "Python 3 (ipykernel)",
   "language": "python",
   "name": "python3"
  },
  "language_info": {
   "codemirror_mode": {
    "name": "ipython",
    "version": 3
   },
   "file_extension": ".py",
   "mimetype": "text/x-python",
   "name": "python",
   "nbconvert_exporter": "python",
   "pygments_lexer": "ipython3",
   "version": "3.9.0"
  }
 },
 "nbformat": 4,
 "nbformat_minor": 5
}
