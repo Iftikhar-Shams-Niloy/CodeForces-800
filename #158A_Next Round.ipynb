{
 "cells": [
  {
   "cell_type": "markdown",
   "metadata": {},
   "source": [
    "# 158A_Next Round\n",
    "### Link to the problem:\n",
    "<a href=\"https://codeforces.com/problemset/problem/158/A\"><b>»»»<i> CLICK HERE </i>«««</b></a>"
   ]
  },
  {
   "cell_type": "code",
   "execution_count": null,
   "metadata": {},
   "outputs": [],
   "source": [
    "n, k = map(int,input().split())\n",
    "scores = list(map(int,input().split()))\n",
    "k_th_score = scores[k-1]\n",
    "count = 0\n",
    "for i in range(n):\n",
    "    if scores[i]>0:\n",
    "        if scores[i] >= k_th_score:\n",
    "            count += 1\n",
    "\n",
    "print(count)"
   ]
  }
 ],
 "metadata": {
  "language_info": {
   "name": "python"
  }
 },
 "nbformat": 4,
 "nbformat_minor": 2
}
