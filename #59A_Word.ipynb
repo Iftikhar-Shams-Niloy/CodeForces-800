{
 "cells": [
  {
   "cell_type": "markdown",
   "id": "918ef21f",
   "metadata": {},
   "source": [
    "# 59A_Word\n",
    "###  Link to the Problem:\n",
    "<a href=\"https://codeforces.com/problemset/problem/59/A\"><b>»»»<i> CLICK HERE </i>«««</b></a>"
   ]
  },
  {
   "cell_type": "code",
   "execution_count": null,
   "id": "3b62b71d",
   "metadata": {},
   "outputs": [],
   "source": [
    "s = input()\n",
    "upper_count = 0\n",
    "lower_count = 0\n",
    "for i in s:\n",
    "    if i.isupper():\n",
    "        upper_count += 1\n",
    "    else:\n",
    "        lower_count += 1\n",
    "\n",
    "if upper_count > lower_count:\n",
    "    print(s.upper())\n",
    "else:\n",
    "    print(s.lower())"
   ]
  },
  {
   "cell_type": "code",
   "execution_count": null,
   "id": "1b8bf3f3",
   "metadata": {},
   "outputs": [],
   "source": []
  }
 ],
 "metadata": {
  "kernelspec": {
   "display_name": "Python 3",
   "language": "python",
   "name": "python3"
  },
  "language_info": {
   "codemirror_mode": {
    "name": "ipython",
    "version": 3
   },
   "file_extension": ".py",
   "mimetype": "text/x-python",
   "name": "python",
   "nbconvert_exporter": "python",
   "pygments_lexer": "ipython3",
   "version": "3.9.0"
  }
 },
 "nbformat": 4,
 "nbformat_minor": 5
}
