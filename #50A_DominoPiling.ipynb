{
 "cells": [
  {
   "cell_type": "markdown",
   "id": "b3eca3fa",
   "metadata": {},
   "source": [
    "# #50A_DominoPiling\n",
    "###  Link to the Problem:\n",
    "<a href=\"https://codeforces.com/problemset/problem/50/A\"><b>»»»<i> CLICK HERE </i>«««</b></a>\n"
   ]
  },
  {
   "cell_type": "code",
   "execution_count": null,
   "id": "ab770284-5463-4186-a32e-5eb9f2904af3",
   "metadata": {
    "vscode": {
     "languageId": "python"
    }
   },
   "outputs": [],
   "source": [
    "M,N = map(int,input().split())\n",
    "dominoes = (M*N)//2\n",
    "print(dominoes)"
   ]
  },
  {
   "cell_type": "markdown",
   "id": "7917089a",
   "metadata": {},
   "source": [
    "### Question Statement Summarization:\n",
    "\n",
    "### Logic Building:\n",
    "<ol>\n",
    "    <li></li>\n",
    "</ol>\n",
    "\n",
    "### Code Explanation: \n",
    "<ol>\n",
    "    <li></li>\n",
    "</ol>"
   ]
  }
 ],
 "metadata": {
  "kernelspec": {
   "display_name": "",
   "name": ""
  },
  "language_info": {
   "name": ""
  }
 },
 "nbformat": 4,
 "nbformat_minor": 5
}
