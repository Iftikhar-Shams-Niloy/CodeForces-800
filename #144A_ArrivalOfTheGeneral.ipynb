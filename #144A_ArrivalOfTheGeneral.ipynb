{
 "cells": [
  {
   "cell_type": "markdown",
   "metadata": {},
   "source": [
    "# 141A_AmusingJoke\n",
    "### Link to the problem:\n",
    "<a href=\"https://codeforces.com/problemset/problem/144/A\"><b>»»»<i> CLICK HERE </i>«««</b></a>"
   ]
  },
  {
   "cell_type": "code",
   "execution_count": null,
   "metadata": {
    "vscode": {
     "languageId": "plaintext"
    }
   },
   "outputs": [],
   "source": [
    "n = int(input())\n",
    "soldiers = list(map(int,input().split()))\n",
    "time = 0\n",
    "def findMax(array, size):\n",
    "    max = 0\n",
    "    max_index = 0\n",
    "    for i in range(size):\n",
    "        if array[i] > max:\n",
    "            max = array[i]\n",
    "            max_index = i\n",
    "    return max, max_index\n",
    "\n",
    "def findMin(array, size):\n",
    "    min = float('inf')\n",
    "    min_index = 0\n",
    "    for j in range(size):\n",
    "        if array[size-j-1] < min :\n",
    "            min = array[size-j-1]\n",
    "            min_index = size-j-1\n",
    "    return min, min_index\n",
    "\n",
    "max, max_index = findMax(soldiers,n)\n",
    "soldiers.pop(max_index)\n",
    "soldiers.insert(0,max)\n",
    "\n",
    "min, min_index = findMin(soldiers,n)\n",
    "\n",
    "time += (max_index)\n",
    "time += (n-(min_index+1))\n",
    "print(time)"
   ]
  }
 ],
 "metadata": {
  "language_info": {
   "name": "python"
  }
 },
 "nbformat": 4,
 "nbformat_minor": 2
}
