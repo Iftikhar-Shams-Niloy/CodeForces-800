{
 "cells": [
  {
   "cell_type": "markdown",
   "metadata": {},
   "source": [
    "# 136A_Presents\n",
    "### Link to the problem:\n",
    "<a href=\"https://codeforces.com/problemset/problem/136/A\"><b>»»»<i> CLICK HERE </i>«««</b></a>"
   ]
  },
  {
   "cell_type": "code",
   "execution_count": 2,
   "metadata": {},
   "outputs": [
    {
     "name": "stdout",
     "output_type": "stream",
     "text": [
      "0 3\n"
     ]
    }
   ],
   "source": [
    "n = int(input())\n",
    "people = list(map(int,input().split()))\n",
    "gifts_given = {}\n",
    "\n",
    "for i in range(1,n+1):\n",
    "    gifts_given[i] = 0\n",
    "\n",
    "for j in range(n):\n",
    "    gifts_given[people[j]] += (j+1)\n",
    "\n",
    "print(\" \".join(map(str,gifts_given.values())))\n"
   ]
  },
  {
   "cell_type": "code",
   "execution_count": null,
   "metadata": {},
   "outputs": [],
   "source": []
  }
 ],
 "metadata": {
  "kernelspec": {
   "display_name": "Python 3",
   "language": "python",
   "name": "python3"
  },
  "language_info": {
   "codemirror_mode": {
    "name": "ipython",
    "version": 3
   },
   "file_extension": ".py",
   "mimetype": "text/x-python",
   "name": "python",
   "nbconvert_exporter": "python",
   "pygments_lexer": "ipython3",
   "version": "3.11.9"
  }
 },
 "nbformat": 4,
 "nbformat_minor": 2
}
