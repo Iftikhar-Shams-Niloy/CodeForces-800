{
 "cells": [
  {
   "cell_type": "markdown",
   "metadata": {},
   "source": [
    "# 141A_AmusingJoke\n",
    "### Link to the problem:\n",
    "<a href=\"https://codeforces.com/problemset/problem/141/A\"><b>»»»<i> CLICK HERE </i>«««</b></a>"
   ]
  },
  {
   "cell_type": "code",
   "execution_count": 1,
   "metadata": {},
   "outputs": [
    {
     "name": "stdout",
     "output_type": "stream",
     "text": [
      "NO\n"
     ]
    }
   ],
   "source": [
    "word_1 = input()\n",
    "word_2 = input()\n",
    "word_3 = input()\n",
    "\n",
    "word_list = []\n",
    "check_list = []\n",
    "check_flag = False\n",
    "\n",
    "for letter in word_3:\n",
    "    check_list.append(letter)\n",
    "\n",
    "for letter in word_1:\n",
    "    word_list.append(letter)\n",
    "for letter in word_2:\n",
    "    word_list.append(letter)\n",
    "\n",
    "\n",
    "\n",
    "for i in range(len(check_list)):\n",
    "    if check_list[i] in word_list:\n",
    "        word_list.remove(check_list[i])\n",
    "    else:\n",
    "        check_flag = True\n",
    "\n",
    "if len(word_list) != 0 or check_flag == True:\n",
    "    print(\"NO\")\n",
    "else:\n",
    "    print(\"YES\")"
   ]
  }
 ],
 "metadata": {
  "kernelspec": {
   "display_name": "Python 3",
   "language": "python",
   "name": "python3"
  },
  "language_info": {
   "codemirror_mode": {
    "name": "ipython",
    "version": 3
   },
   "file_extension": ".py",
   "mimetype": "text/x-python",
   "name": "python",
   "nbconvert_exporter": "python",
   "pygments_lexer": "ipython3",
   "version": "3.11.9"
  }
 },
 "nbformat": 4,
 "nbformat_minor": 2
}
