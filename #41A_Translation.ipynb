{
 "cells": [
  {
   "cell_type": "markdown",
   "id": "76fd855c",
   "metadata": {},
   "source": [
    "# #41A_Translation\n",
    "###  Link to the Problem:\n",
    "<a href=\"https://codeforces.com/problemset/problem/41/A\"><b>»»»<i> CLICK HERE </i>«««</b></a>\n"
   ]
  },
  {
   "cell_type": "code",
   "execution_count": null,
   "id": "42c35647-03a3-4b7f-be0b-1be07a570cbb",
   "metadata": {
    "vscode": {
     "languageId": "python"
    }
   },
   "outputs": [],
   "source": [
    "s = input()\n",
    "t = input()\n",
    "if s == t[::-1]:\n",
    "    print(\"YES\")\n",
    "else:\n",
    "    print(\"NO\")"
   ]
  },
  {
   "cell_type": "markdown",
   "id": "f7cf9857",
   "metadata": {},
   "source": [
    "### Question Statement Summarization:\n",
    "\n",
    "### Logic Building:\n",
    "<ol>\n",
    "    <li></li>\n",
    "</ol>\n",
    "\n",
    "### Code Explanation: \n",
    "<ol>\n",
    "    <li></li>\n",
    "</ol>"
   ]
  }
 ],
 "metadata": {
  "kernelspec": {
   "display_name": "",
   "name": ""
  },
  "language_info": {
   "name": ""
  }
 },
 "nbformat": 4,
 "nbformat_minor": 5
}
