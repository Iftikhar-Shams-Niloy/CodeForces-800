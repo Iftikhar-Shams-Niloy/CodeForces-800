{
 "cells": [
  {
   "cell_type": "markdown",
   "id": "76fd855c",
   "metadata": {},
   "source": [
    "# #41A_Translation\n",
    "###  Link to the Problem:\n",
    "<a href=\"https://codeforces.com/problemset/problem/41/A\"><b>»»»<i> CLICK HERE </i>«««</b></a>\n"
   ]
  },
  {
   "cell_type": "code",
   "execution_count": 3,
   "id": "42c35647-03a3-4b7f-be0b-1be07a570cbb",
   "metadata": {},
   "outputs": [
    {
     "name": "stdout",
     "output_type": "stream",
     "text": [
      "YES\n"
     ]
    }
   ],
   "source": [
    "s = input()\n",
    "t = input()\n",
    "if s == t[::-1]:\n",
    "    print(\"YES\")\n",
    "else:\n",
    "    print(\"NO\")"
   ]
  },
  {
   "cell_type": "markdown",
   "id": "f7cf9857",
   "metadata": {},
   "source": [
    "### Question Statement Summarization:\n",
    "There 2 countries with 2 different languages. However, Berland(Country-1) and Birland(Country-2) languages has a similarity. That is, a word of Berland's language is exactly the reverse in Birland's language. Example: \"<i><b>code</b></i>\" in Berland is \"<i><b>edoc</b></i>\" in Birland.\n",
    "As input, it will take 2 words in 2 lines referring to the words of the 2 mentioned countries.\n",
    "As output, it will print \"YES\" if one word is exaclty reverse of the other. Print \"NO\" if oterwise.\n",
    "### Logic Building:\n",
    "<ol>\n",
    "    <li>As there are 2 words we will be handling with as inputs, then their data type will be string.</li>\n",
    "    <li>We need to check if the word is reverse of each other, so we will be needing conditions</li>\n",
    "</ol>\n",
    "\n",
    "### Code Explanation: \n",
    "<ol>\n",
    "    <li>In the first 2 lines, we used 2 variables s, t to take the user inputs. Python takes \"String\" data type as input by default so no need to convert the datatype</li>\n",
    "    <li>In \"if\" condition it is checked whether s == t[::-1]. \n",
    "    Here, \"<b>t[::-1]</b>\" is actually reversing the text in <i><b>\"t\"</b></i> and checking if it is same as <b>\"s\"</b> </li>\n",
    "    <li>lasly, it prints \"YES\" if the condition is met, and \"NO\" if the condition is not met.\n",
    "</ol>"
   ]
  },
  {
   "cell_type": "markdown",
   "id": "feea6d15",
   "metadata": {},
   "source": []
  }
 ],
 "metadata": {
  "kernelspec": {
   "display_name": "Python 3",
   "language": "python",
   "name": "python3"
  },
  "language_info": {
   "codemirror_mode": {
    "name": "ipython",
    "version": 3
   },
   "file_extension": ".py",
   "mimetype": "text/x-python",
   "name": "python",
   "nbconvert_exporter": "python",
   "pygments_lexer": "ipython3",
   "version": "3.9.0"
  }
 },
 "nbformat": 4,
 "nbformat_minor": 5
}
