{
 "cells": [
  {
   "cell_type": "markdown",
   "id": "1b4265c3-9067-4dcf-b35d-59882fe19cd4",
   "metadata": {},
   "source": [
    "# 116A_Tram\n",
    "### Link to the problem:"
   ]
  },
  {
   "cell_type": "code",
   "execution_count": null,
   "id": "1102dfa7-e9c4-4736-bc97-bd2472948368",
   "metadata": {},
   "outputs": [],
   "source": [
    "n = int(input())\n",
    "min_capacity = 0\n",
    "passenger_inside = 0\n",
    "for i in range(n):\n",
    "    a_i,b_i = map(int,input().split())\n",
    "    passenger_inside -= a_i\n",
    "    passenger_inside += b_i\n",
    "    if passenger_inside> min_capacity:\n",
    "        min_capacity = passenger_inside\n",
    "print(min_capacity)"
   ]
  }
 ],
 "metadata": {
  "kernelspec": {
   "display_name": "Python 3 (ipykernel)",
   "language": "python",
   "name": "python3"
  },
  "language_info": {
   "codemirror_mode": {
    "name": "ipython",
    "version": 3
   },
   "file_extension": ".py",
   "mimetype": "text/x-python",
   "name": "python",
   "nbconvert_exporter": "python",
   "pygments_lexer": "ipython3",
   "version": "3.11.9"
  }
 },
 "nbformat": 4,
 "nbformat_minor": 5
}
