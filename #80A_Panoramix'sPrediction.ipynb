{
 "cells": [
  {
   "cell_type": "markdown",
   "id": "c6f483c8",
   "metadata": {},
   "source": [
    "# 80A_Panoramix'sPrediction\n",
    "###  Link to the Problem:\n",
    "<a href=\"https://codeforces.com/problemset/problem/80/A\"><b>»»»<i> CLICK HERE </i>«««</b></a>"
   ]
  },
  {
   "cell_type": "code",
   "execution_count": null,
   "id": "3f7b99ed-e8b1-463e-a60a-09e03ad4f173",
   "metadata": {},
   "outputs": [],
   "source": [
    "def primeChecker(number):\n",
    "    if number>1:\n",
    "        for i in range(2,number//2+1):\n",
    "            if number%i == 0:\n",
    "                return False\n",
    "        else:\n",
    "            return True\n",
    "    else:\n",
    "        return False\n",
    "\n",
    "n,m = map(int,input().split())\n",
    "\n",
    "if primeChecker(m):\n",
    "    for i in range(n+1,m):\n",
    "        if primeChecker(i):\n",
    "            print(\"NO\")\n",
    "            break\n",
    "    else:\n",
    "        print(\"YES\")\n",
    "else:\n",
    "    print(\"NO\")\n"
   ]
  },
  {
   "cell_type": "markdown",
   "id": "2e63d6a8",
   "metadata": {},
   "source": []
  }
 ],
 "metadata": {
  "kernelspec": {
   "display_name": "base",
   "language": "python",
   "name": "python3"
  },
  "language_info": {
   "name": "python",
   "version": "3.12.7"
  }
 },
 "nbformat": 4,
 "nbformat_minor": 5
}
