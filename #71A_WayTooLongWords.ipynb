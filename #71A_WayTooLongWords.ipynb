{
 "cells": [
  {
   "cell_type": "markdown",
   "id": "f20dfa97",
   "metadata": {},
   "source": [
    "# 71A_WayTooLongWords\n",
    "###  Link to the Problem:\n",
    "<a href=\"https://codeforces.com/problemset/problem/71/A\"><b>»»»<i> CLICK HERE </i>«««</b></a>"
   ]
  },
  {
   "cell_type": "code",
   "execution_count": null,
   "id": "7f148a6a",
   "metadata": {},
   "outputs": [
    {
     "name": "stdout",
     "output_type": "stream",
     "text": [
      "helloWorld\n"
     ]
    }
   ],
   "source": [
    "n = int(input())\n",
    "for i in range(n):\n",
    "    word = input()\n",
    "    if len(word)>10:\n",
    "        new_word = word[0]+str(len(word)-2)+word[len(word)-1]\n",
    "        print(new_word)\n",
    "    else:\n",
    "        print(word)"
   ]
  },
  {
   "cell_type": "markdown",
   "id": "3f65f14a",
   "metadata": {},
   "source": []
  }
 ],
 "metadata": {
  "kernelspec": {
   "display_name": "base",
   "language": "python",
   "name": "python3"
  },
  "language_info": {
   "codemirror_mode": {
    "name": "ipython",
    "version": 3
   },
   "file_extension": ".py",
   "mimetype": "text/x-python",
   "name": "python",
   "nbconvert_exporter": "python",
   "pygments_lexer": "ipython3",
   "version": "3.12.7"
  }
 },
 "nbformat": 4,
 "nbformat_minor": 5
}
