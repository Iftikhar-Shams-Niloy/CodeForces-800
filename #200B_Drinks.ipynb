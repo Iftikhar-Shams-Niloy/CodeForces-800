{
 "cells": [
  {
   "cell_type": "markdown",
   "metadata": {},
   "source": [
    "# 200B_Drinks\n",
    "### Link to the problem:\n",
    "<a href=\"https://codeforces.com/problemset/problem/200/B\"><b>»»»<i> CLICK HERE </i>«««</b></a>"
   ]
  },
  {
   "cell_type": "code",
   "execution_count": null,
   "metadata": {},
   "outputs": [],
   "source": [
    "n = int(input())\n",
    "drinks = list(map(int,input().split()))\n",
    "total_orange = 0\n",
    "for i in range(n):\n",
    "    total_orange += drinks[i]\n",
    "\n",
    "print(total_orange/n)"
   ]
  }
 ],
 "metadata": {
  "language_info": {
   "name": "python"
  }
 },
 "nbformat": 4,
 "nbformat_minor": 2
}
