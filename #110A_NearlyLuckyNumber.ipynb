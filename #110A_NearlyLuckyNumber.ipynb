{
 "cells": [
  {
   "cell_type": "markdown",
   "id": "ba5e3652",
   "metadata": {},
   "source": [
    "# 110A_NearlyLuckyNumber\n",
    "###  Link to the Problem:\n",
    "<a href=\"https://codeforces.com/problemset/problem/110/A\"><b>»»»<i> CLICK HERE </i>«««</b></a>"
   ]
  },
  {
   "cell_type": "code",
   "execution_count": 1,
   "id": "3ad7051f-70b4-4faa-8be1-3d182774547e",
   "metadata": {},
   "outputs": [
    {
     "name": "stdout",
     "output_type": "stream",
     "text": [
      "NO\n"
     ]
    }
   ],
   "source": [
    "numbers = input()\n",
    "lucky_number_count = 0\n",
    "lucky_flag = False\n",
    "for num in numbers:\n",
    "    if num == \"4\":\n",
    "        lucky_number_count += 1\n",
    "    elif num == \"7\":\n",
    "        lucky_number_count += 1\n",
    "\n",
    "if lucky_number_count == 4 or lucky_number_count == 7:\n",
    "    print(\"YES\")\n",
    "else:\n",
    "    print(\"NO\")"
   ]
  },
  {
   "cell_type": "markdown",
   "id": "27652d31",
   "metadata": {},
   "source": []
  }
 ],
 "metadata": {
  "kernelspec": {
   "display_name": "Python 3",
   "language": "python",
   "name": "python3"
  },
  "language_info": {
   "codemirror_mode": {
    "name": "ipython",
    "version": 3
   },
   "file_extension": ".py",
   "mimetype": "text/x-python",
   "name": "python",
   "nbconvert_exporter": "python",
   "pygments_lexer": "ipython3",
   "version": "3.9.0"
  }
 },
 "nbformat": 4,
 "nbformat_minor": 5
}
