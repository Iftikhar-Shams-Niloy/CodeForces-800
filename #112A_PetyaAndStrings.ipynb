{
 "cells": [
  {
   "cell_type": "markdown",
   "id": "93649ce2-7790-405d-9695-b1ecfc297161",
   "metadata": {},
   "source": [
    "# "
   ]
  },
  {
   "cell_type": "markdown",
   "id": "0389c90e",
   "metadata": {},
   "source": [
    "# 112A_PetyaAndStrings\n",
    "###  Link to the Problem:\n",
    "<a href=\"https://codeforces.com/problemset/problem/112/A\"><b>»»»<i> CLICK HERE </i>«««</b></a>"
   ]
  },
  {
   "cell_type": "code",
   "execution_count": null,
   "id": "b1de581c-b737-4b21-a3eb-87544d12ce20",
   "metadata": {},
   "outputs": [],
   "source": [
    "letters = \"abcdefghijklmnopqrstuvwxyz\"\n",
    "letters_list = []\n",
    "output = 0\n",
    "user_input_1 = input().lower()\n",
    "user_input_2 = input().lower()\n",
    "\n",
    "\n",
    "for i in letters:\n",
    "    letters_list.append(i)\n",
    "\n",
    "for j in range(len(user_input_1)):\n",
    "    if user_input_1[j] != user_input_2[j]:\n",
    "        if letters_list.index(user_input_1[j]) > letters_list.index(user_input_2[j]):\n",
    "            output += 1\n",
    "            break\n",
    "        else:\n",
    "            output -= 1\n",
    "            break\n",
    "print(output)\n"
   ]
  }
 ],
 "metadata": {
  "kernelspec": {
   "display_name": "Python 3 (ipykernel)",
   "language": "python",
   "name": "python3"
  },
  "language_info": {
   "codemirror_mode": {
    "name": "ipython",
    "version": 3
   },
   "file_extension": ".py",
   "mimetype": "text/x-python",
   "name": "python",
   "nbconvert_exporter": "python",
   "pygments_lexer": "ipython3",
   "version": "3.9.0"
  }
 },
 "nbformat": 4,
 "nbformat_minor": 5
}
