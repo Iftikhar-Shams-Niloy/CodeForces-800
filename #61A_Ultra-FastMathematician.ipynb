{
 "cells": [
  {
   "cell_type": "markdown",
   "metadata": {},
   "source": [
    "# 61A_Word\n",
    "###  Link to the Problem:\n",
    "<a href=\"https://codeforces.com/problemset/problem/61/A\"><b>»»»<i> CLICK HERE </i>«««</b></a>"
   ]
  },
  {
   "cell_type": "code",
   "execution_count": null,
   "metadata": {
    "vscode": {
     "languageId": "plaintext"
    }
   },
   "outputs": [],
   "source": [
    "def  ANDgate(numString_1, numString_2):\n",
    "    result = \"\"\n",
    "    size = len(numString_1)\n",
    "    for i in range(size):\n",
    "        if numString_1[i] == numString_2[i]:\n",
    "            result += \"0\"\n",
    "        else:\n",
    "            result += \"1\"\n",
    "    return result\n",
    "\n",
    "numString_1 = input()\n",
    "numString_2 = input()\n",
    "result_string = ANDgate(numString_1, numString_2)\n",
    "print(result_string)"
   ]
  }
 ],
 "metadata": {
  "language_info": {
   "name": "python"
  }
 },
 "nbformat": 4,
 "nbformat_minor": 2
}
