{
 "cells": [
  {
   "cell_type": "markdown",
   "metadata": {},
   "source": [
    "# 148A_InsomniaCure\n",
    "### Link to the problem:\n",
    "<a href=\"https://codeforces.com/problemset/problem/148/A\"><b>»»»<i> CLICK HERE </i>«««</b></a>"
   ]
  },
  {
   "cell_type": "code",
   "execution_count": null,
   "metadata": {},
   "outputs": [],
   "source": [
    "def getResult(K, L, M, N, D):\n",
    "    damaged_dragons = set()\n",
    "    for divisor in (K, L, M, N):\n",
    "        damaged_dragons.update(range(divisor, D+1, divisor))\n",
    "    print(len(damaged_dragons))\n",
    "\n",
    "K = int(input())\n",
    "L = int(input())\n",
    "M = int(input())\n",
    "N = int(input())\n",
    "D = int(input())\n",
    "\n",
    "getResult(K, L,M, N, D)"
   ]
  },
  {
   "cell_type": "markdown",
   "metadata": {},
   "source": []
  }
 ],
 "metadata": {
  "kernelspec": {
   "display_name": "Python 3",
   "language": "python",
   "name": "python3"
  },
  "language_info": {
   "name": "python",
   "version": "3.11.9"
  }
 },
 "nbformat": 4,
 "nbformat_minor": 2
}
