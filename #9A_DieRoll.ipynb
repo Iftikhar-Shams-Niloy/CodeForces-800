{
 "cells": [
  {
   "cell_type": "markdown",
   "metadata": {},
   "source": [
    "# #41A_Translation\n",
    "###  Link to the Problem:\n",
    "<a href=\"https://codeforces.com/problemset/problem/9/A\"><b>»»»<i> CLICK HERE </i>«««</b></a>\n"
   ]
  },
  {
   "cell_type": "code",
   "execution_count": null,
   "metadata": {},
   "outputs": [],
   "source": [
    "Y,W = map(int,input().split())\n",
    "highest = max(Y,W)\n",
    "chances = (6-highest)+1\n",
    "if chances == 1:\n",
    "    print(\"1/6\")\n",
    "elif chances == 2:\n",
    "    print(\"1/3\")\n",
    "elif chances == 3:\n",
    "    print(\"1/2\")\n",
    "elif chances == 4:\n",
    "    print(\"2/3\")\n",
    "elif chances == 5:\n",
    "    print(\"5/6\")\n",
    "else:\n",
    "    print(\"1/1\")"
   ]
  },
  {
   "cell_type": "markdown",
   "metadata": {},
   "source": [
    "### Question Statement Summarization:\n",
    "\n",
    "### Logic Building:\n",
    "\n",
    "### Code Explanation: \n"
   ]
  },
  {
   "cell_type": "markdown",
   "metadata": {},
   "source": []
  }
 ],
 "metadata": {
  "kernelspec": {
   "display_name": "Python 3",
   "language": "python",
   "name": "python3"
  },
  "language_info": {
   "codemirror_mode": {
    "name": "ipython",
    "version": 3
   },
   "file_extension": ".py",
   "mimetype": "text/x-python",
   "name": "python",
   "nbconvert_exporter": "python",
   "pygments_lexer": "ipython3",
   "version": "3.9.0"
  }
 },
 "nbformat": 4,
 "nbformat_minor": 2
}
